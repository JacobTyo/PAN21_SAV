{
 "cells": [
  {
   "cell_type": "markdown",
   "id": "stock-idaho",
   "metadata": {},
   "source": [
    "# Initial Analysis of the Fan Fiction Dataset\n",
    "\n",
    "The dataset can be downloaded here: https://pan.webis.de/clef21/pan21-web/author-identification.html\n",
    "\n",
    "The description of the dataset, also found at the previous link is: \n",
    "\n",
    "```The train (calibration) and test datasets consists of pairs of (snippets from) two different fanfics, that were obtained drawn from fanfiction.net. Each pair was assigned a unique identifier and we distinguish between same-author pairs and different-authors pairs. Additionally, we offer metadata on the fandom (i.e. thematic category) for each text in the pair (note that fanfic \"crossovers\" were not included and only single-fandom texts were considered). The fandom distribution in these datasets maximally approximates the (long-tail) distribution of the fandoms in the original dataset. The test dataset is structured in the exact same way, but participants should expect a significant shift in the relation between authors and fandoms.\n",
    "\n",
    "The training dataset comes in two variants: a smaller dataset, particularly suited for symbolic machine learning methods and a large, dataset, suitable for applying data-hungry deep learning algorithms. Participants have to specify which of the two datasets was used to train their model. Models using the small set will be evaluated separately from models using the large set. We encourage participants to try the small dataset as a challenge, though participants can submit separate submissions for either one or both.\n",
    "\n",
    "Both the small and the large dataset come with two newline delimited JSON files each (*.jsonl). The first file contains pairs of texts (each pair has a unique ID) and their fandom labels:\n",
    "\n",
    "{\"id\": \"6cced668-6e51-5212-873c-717f2bc91ce6\", \"fandoms\": [\"Fandom 1\", \"Fandom 2\"], \"pair\": [\"Text 1...\", \"Text 2...\"]}\n",
    "{\"id\": \"ae9297e9-2ae5-5e3f-a2ab-ef7c322f2647\", \"fandoms\": [\"Fandom 3\", \"Fandom 4\"], \"pair\": [\"Text 3...\", \"Text 4...\"]}\n",
    "...\n",
    "The second file, ending in *_truth.jsonl, contains the ground truth for all pairs. The ground truth is composed of a boolean flag indicating if texts in a pair are from the same author and the numeric author IDs:\n",
    "\n",
    "{\"id\": \"6cced668-6e51-5212-873c-717f2bc91ce6\", \"same\": true, \"authors\": [\"1446633\", \"1446633\"]}\n",
    "{\"id\": \"ae9297e9-2ae5-5e3f-a2ab-ef7c322f2647\", \"same\": false, \"authors\": [\"1535385\", \"1998978\"]}\n",
    "...\n",
    "Data and ground truth are in the same order and can be ingested line-wise in parallel without the need for a reshuffle based on the pair ID. The fandom labels will be given in both the training and testing datasets. The ground truth file will only be available for the training data.\n",
    "```\n",
    "\n",
    "## Key Notes \n",
    "1. Each data point contains snippets of text from two different fanfics.\n",
    "2. Fanfic \"crossovers\" were not included (so texts originate from only one fandom)\n",
    "3. \"The fandom distribution in these datasets maximally approximates the (long-tail) distributuion of the fandoms in the original dataset\" (I'm not sure what they mean here. \n",
    "4. Participants should expect a significant shift in the relation between authors and fandoms between the train and test set. \n",
    "\n",
    "## What questions do we have? \n",
    "1. How many fandoms?\n",
    "2. How many authors? \n",
    "3. What is the distribution of texts/author? fandoms/author? author/fandom?\n",
    "4. In the given pairs, what is the percentage of same author pairs vs different author pairs? \n",
    "5. Are pairs constructed only with texts from the same (or different) fandoms?\n",
    "6. Is the training/testing set balanced (both the one I created and what should we expect)?\n",
    "7. What is the accuracy on the dataset if we just predict the most common author/score?"
   ]
  },
  {
   "cell_type": "code",
   "execution_count": 6,
   "id": "female-chase",
   "metadata": {},
   "outputs": [],
   "source": [
    "import json \n",
    "import pandas as pd\n",
    "from tqdm.notebook import tqdm\n",
    "import matplotlib.pyplot as plt\n",
    "from multiprocessing import Pool\n",
    "import time\n",
    "import numpy as np"
   ]
  },
  {
   "cell_type": "code",
   "execution_count": 2,
   "id": "comfortable-hello",
   "metadata": {},
   "outputs": [
    {
     "data": {
      "application/vnd.jupyter.widget-view+json": {
       "model_id": "ef9a76abb04a496282fd00ba6fd5c3e5",
       "version_major": 2,
       "version_minor": 0
      },
      "text/plain": [
       "0it [00:00, ?it/s]"
      ]
     },
     "metadata": {},
     "output_type": "display_data"
    }
   ],
   "source": [
    "# First, read in the data \n",
    "# Start by getting the truth file\n",
    "truth = {}\n",
    "first_id = None\n",
    "with open('/home/jtyo/Repos/AuthorshipAttribution/data/PAN20/pan20-authorship-verification-training-large/pan20-authorship-verification-training-large-truth.jsonl', 'r') as f:\n",
    "\n",
    "    lines = f.readlines()\n",
    "\n",
    "    for line in lines:\n",
    "        \n",
    "        line = json.loads(line)\n",
    "        \n",
    "        if line['id'] not in truth.keys():\n",
    "            truth[line['id']] = {}\n",
    "            \n",
    "        if first_id is None:\n",
    "            first_id = line['id']\n",
    "            \n",
    "        truth[line['id']]['authors'] = line['authors']\n",
    "        truth[line['id']]['same'] = line['same']\n",
    "\n",
    "# Now read the training data - I think all we need is the fandoms\n",
    "data = None\n",
    "with open('/home/jtyo/Repos/AuthorshipAttribution/data/PAN20/pan20-authorship-verification-training-large/pan20-authorship-verification-training-large.jsonl', 'r') as f:\n",
    "    \n",
    "    for line in tqdm(f):\n",
    "        \n",
    "        line = json.loads(line)\n",
    "        \n",
    "        if data is None:\n",
    "            data = {'id': [line['id']],\n",
    "                    'same': [truth[line['id']]['same']], \n",
    "                    'fandom1': [line['fandoms'][0]], \n",
    "                    'fandom2': [line['fandoms'][1]],\n",
    "                    'auth1': [truth[line['id']]['authors'][0]],\n",
    "                    'auth2': [truth[line['id']]['authors'][1]],\n",
    "                    'text_len1': [len(line['pair'][0])],\n",
    "                    'text_len2': [len(line['pair'][1])]\n",
    "                   }\n",
    "        else:\n",
    "            data['id'].append(line['id'])\n",
    "            data['same'].append(truth[line['id']]['same'])\n",
    "            data['fandom1'].append(line['fandoms'][0])\n",
    "            data['fandom2'].append(line['fandoms'][1])\n",
    "            data['auth1'].append(truth[line['id']]['authors'][0])\n",
    "            data['auth2'].append(truth[line['id']]['authors'][1])\n",
    "            data['text_len1'].append(len(line['pair'][0]))\n",
    "            data['text_len2'].append(len(line['pair'][1]))\n",
    "        \n",
    "data = pd.DataFrame(data=data)"
   ]
  },
  {
   "cell_type": "code",
   "execution_count": 3,
   "id": "understood-trinidad",
   "metadata": {},
   "outputs": [
    {
     "data": {
      "text/html": [
       "<div>\n",
       "<style scoped>\n",
       "    .dataframe tbody tr th:only-of-type {\n",
       "        vertical-align: middle;\n",
       "    }\n",
       "\n",
       "    .dataframe tbody tr th {\n",
       "        vertical-align: top;\n",
       "    }\n",
       "\n",
       "    .dataframe thead th {\n",
       "        text-align: right;\n",
       "    }\n",
       "</style>\n",
       "<table border=\"1\" class=\"dataframe\">\n",
       "  <thead>\n",
       "    <tr style=\"text-align: right;\">\n",
       "      <th></th>\n",
       "      <th>text_len1</th>\n",
       "      <th>text_len2</th>\n",
       "    </tr>\n",
       "  </thead>\n",
       "  <tbody>\n",
       "    <tr>\n",
       "      <th>count</th>\n",
       "      <td>275565.000000</td>\n",
       "      <td>275565.000000</td>\n",
       "    </tr>\n",
       "    <tr>\n",
       "      <th>mean</th>\n",
       "      <td>21432.899864</td>\n",
       "      <td>21422.731813</td>\n",
       "    </tr>\n",
       "    <tr>\n",
       "      <th>std</th>\n",
       "      <td>2775.539125</td>\n",
       "      <td>1800.413904</td>\n",
       "    </tr>\n",
       "    <tr>\n",
       "      <th>min</th>\n",
       "      <td>20552.000000</td>\n",
       "      <td>20355.000000</td>\n",
       "    </tr>\n",
       "    <tr>\n",
       "      <th>25%</th>\n",
       "      <td>21196.000000</td>\n",
       "      <td>21196.000000</td>\n",
       "    </tr>\n",
       "    <tr>\n",
       "      <th>50%</th>\n",
       "      <td>21285.000000</td>\n",
       "      <td>21285.000000</td>\n",
       "    </tr>\n",
       "    <tr>\n",
       "      <th>75%</th>\n",
       "      <td>21424.000000</td>\n",
       "      <td>21423.000000</td>\n",
       "    </tr>\n",
       "    <tr>\n",
       "      <th>max</th>\n",
       "      <td>943947.000000</td>\n",
       "      <td>331334.000000</td>\n",
       "    </tr>\n",
       "  </tbody>\n",
       "</table>\n",
       "</div>"
      ],
      "text/plain": [
       "           text_len1      text_len2\n",
       "count  275565.000000  275565.000000\n",
       "mean    21432.899864   21422.731813\n",
       "std      2775.539125    1800.413904\n",
       "min     20552.000000   20355.000000\n",
       "25%     21196.000000   21196.000000\n",
       "50%     21285.000000   21285.000000\n",
       "75%     21424.000000   21423.000000\n",
       "max    943947.000000  331334.000000"
      ]
     },
     "execution_count": 3,
     "metadata": {},
     "output_type": "execute_result"
    }
   ],
   "source": [
    "# now get all of the data from the dataframe.\n",
    "data.describe()"
   ]
  },
  {
   "cell_type": "code",
   "execution_count": 4,
   "id": "ready-yorkshire",
   "metadata": {},
   "outputs": [
    {
     "data": {
      "text/html": [
       "<div>\n",
       "<style scoped>\n",
       "    .dataframe tbody tr th:only-of-type {\n",
       "        vertical-align: middle;\n",
       "    }\n",
       "\n",
       "    .dataframe tbody tr th {\n",
       "        vertical-align: top;\n",
       "    }\n",
       "\n",
       "    .dataframe thead th {\n",
       "        text-align: right;\n",
       "    }\n",
       "</style>\n",
       "<table border=\"1\" class=\"dataframe\">\n",
       "  <thead>\n",
       "    <tr style=\"text-align: right;\">\n",
       "      <th></th>\n",
       "      <th>id</th>\n",
       "      <th>same</th>\n",
       "      <th>fandom1</th>\n",
       "      <th>fandom2</th>\n",
       "      <th>auth1</th>\n",
       "      <th>auth2</th>\n",
       "      <th>text_len1</th>\n",
       "      <th>text_len2</th>\n",
       "    </tr>\n",
       "  </thead>\n",
       "  <tbody>\n",
       "    <tr>\n",
       "      <th>0</th>\n",
       "      <td>6b177179-72d2-5c87-ba2e-7678ae8c1db2</td>\n",
       "      <td>True</td>\n",
       "      <td>Labyrinth</td>\n",
       "      <td>Mighty Boosh</td>\n",
       "      <td>4027030</td>\n",
       "      <td>4027030</td>\n",
       "      <td>21247</td>\n",
       "      <td>21285</td>\n",
       "    </tr>\n",
       "    <tr>\n",
       "      <th>1</th>\n",
       "      <td>80ff51a1-8f2b-507e-bece-e0a187f26a19</td>\n",
       "      <td>True</td>\n",
       "      <td>Labyrinth</td>\n",
       "      <td>Rocky Horror</td>\n",
       "      <td>4027030</td>\n",
       "      <td>4027030</td>\n",
       "      <td>21218</td>\n",
       "      <td>21230</td>\n",
       "    </tr>\n",
       "    <tr>\n",
       "      <th>2</th>\n",
       "      <td>b6492f44-4d7b-51d2-a6c8-fdfaf62868e4</td>\n",
       "      <td>True</td>\n",
       "      <td>Labyrinth</td>\n",
       "      <td>Shake It Up!</td>\n",
       "      <td>4027030</td>\n",
       "      <td>4027030</td>\n",
       "      <td>21351</td>\n",
       "      <td>21182</td>\n",
       "    </tr>\n",
       "    <tr>\n",
       "      <th>3</th>\n",
       "      <td>c502df34-8c2e-5a86-9555-cdcf0b03f189</td>\n",
       "      <td>True</td>\n",
       "      <td>Mighty Boosh</td>\n",
       "      <td>Rocky Horror</td>\n",
       "      <td>4027030</td>\n",
       "      <td>4027030</td>\n",
       "      <td>21249</td>\n",
       "      <td>21293</td>\n",
       "    </tr>\n",
       "    <tr>\n",
       "      <th>4</th>\n",
       "      <td>653cfc2d-5e82-5afa-87b1-c5b793441483</td>\n",
       "      <td>True</td>\n",
       "      <td>Mighty Boosh</td>\n",
       "      <td>Shake It Up!</td>\n",
       "      <td>4027030</td>\n",
       "      <td>4027030</td>\n",
       "      <td>21331</td>\n",
       "      <td>21223</td>\n",
       "    </tr>\n",
       "  </tbody>\n",
       "</table>\n",
       "</div>"
      ],
      "text/plain": [
       "                                     id  same       fandom1       fandom2  \\\n",
       "0  6b177179-72d2-5c87-ba2e-7678ae8c1db2  True     Labyrinth  Mighty Boosh   \n",
       "1  80ff51a1-8f2b-507e-bece-e0a187f26a19  True     Labyrinth  Rocky Horror   \n",
       "2  b6492f44-4d7b-51d2-a6c8-fdfaf62868e4  True     Labyrinth  Shake It Up!   \n",
       "3  c502df34-8c2e-5a86-9555-cdcf0b03f189  True  Mighty Boosh  Rocky Horror   \n",
       "4  653cfc2d-5e82-5afa-87b1-c5b793441483  True  Mighty Boosh  Shake It Up!   \n",
       "\n",
       "     auth1    auth2  text_len1  text_len2  \n",
       "0  4027030  4027030      21247      21285  \n",
       "1  4027030  4027030      21218      21230  \n",
       "2  4027030  4027030      21351      21182  \n",
       "3  4027030  4027030      21249      21293  \n",
       "4  4027030  4027030      21331      21223  "
      ]
     },
     "execution_count": 4,
     "metadata": {},
     "output_type": "execute_result"
    }
   ],
   "source": [
    "data.head()"
   ]
  },
  {
   "cell_type": "code",
   "execution_count": 5,
   "id": "moving-teddy",
   "metadata": {},
   "outputs": [
    {
     "name": "stdout",
     "output_type": "stream",
     "text": [
      "There are 275565 pairs, 147778 of them are same author, which is 0.5362727487162738 percent.\n",
      "23131 are same fandom, or 0.08394026817629234 percent.\n",
      "Of the same author pairs, 0 of them are same fandom, or 0.0 percent.\n",
      "Of the different author pairs, 23131 of them are same fandom, or 0.15652532853334056 percent.\n",
      "there were 1600 and 1600 fandoms.\n",
      "there were 160159 and 160020 authors.\n",
      "getting all auths\n",
      "took 642.5740287303925 seconds\n"
     ]
    },
    {
     "ename": "NameError",
     "evalue": "name 'np' is not defined",
     "output_type": "error",
     "traceback": [
      "\u001b[0;31m---------------------------------------------------------------------------\u001b[0m",
      "\u001b[0;31mNameError\u001b[0m                                 Traceback (most recent call last)",
      "\u001b[0;32m<ipython-input-5-616e5d86211b>\u001b[0m in \u001b[0;36m<module>\u001b[0;34m\u001b[0m\n\u001b[1;32m     42\u001b[0m \u001b[0mprint\u001b[0m\u001b[0;34m(\u001b[0m\u001b[0;34mf'took {time.time() - start_time} seconds'\u001b[0m\u001b[0;34m)\u001b[0m\u001b[0;34m\u001b[0m\u001b[0;34m\u001b[0m\u001b[0m\n\u001b[1;32m     43\u001b[0m \u001b[0;34m\u001b[0m\u001b[0m\n\u001b[0;32m---> 44\u001b[0;31m \u001b[0mprint\u001b[0m\u001b[0;34m(\u001b[0m\u001b[0;34mf'avg samples per author: {np.mean(texts_per_auth)}'\u001b[0m\u001b[0;34m)\u001b[0m\u001b[0;34m\u001b[0m\u001b[0;34m\u001b[0m\u001b[0m\n\u001b[0m\u001b[1;32m     45\u001b[0m \u001b[0mprint\u001b[0m\u001b[0;34m(\u001b[0m\u001b[0;34mf'median samples per author: {np.median(texts_per_auth)}'\u001b[0m\u001b[0;34m)\u001b[0m\u001b[0;34m\u001b[0m\u001b[0;34m\u001b[0m\u001b[0m\n\u001b[1;32m     46\u001b[0m \u001b[0mprint\u001b[0m\u001b[0;34m(\u001b[0m\u001b[0;34mf'std of samples per author: {np.std(texts_per_auth)}'\u001b[0m\u001b[0;34m)\u001b[0m\u001b[0;34m\u001b[0m\u001b[0;34m\u001b[0m\u001b[0m\n",
      "\u001b[0;31mNameError\u001b[0m: name 'np' is not defined"
     ]
    }
   ],
   "source": [
    "# how many are same author pairs?\n",
    "num_same = len(data[data['same'] == True])\n",
    "print(f'There are {len(data)} pairs, {num_same} of them are same author, which is {num_same/len(data)} percent.')\n",
    "\n",
    "# how many are same fandom?\n",
    "num_same_fandom = len(data[data['fandom1'] == data['fandom2']])\n",
    "print(f'{num_same_fandom} are same fandom, or {num_same_fandom/len(data)} percent.')\n",
    "\n",
    "# what percent of the same author, (and diff auth pairs) are same fandom?\n",
    "tmp = data[data['same'] == True]\n",
    "same_auth_same_fandom = len(tmp[tmp['fandom1'] == tmp['fandom2']])\n",
    "print(f'Of the same author pairs, {same_auth_same_fandom} of them are same fandom, or {same_auth_same_fandom/num_same} percent.')\n",
    "\n",
    "tmp = data[data['same'] == False]\n",
    "diff_auth_same_fandom = len(tmp[tmp['fandom1'] == tmp['fandom2']])\n",
    "print(f'Of the different author pairs, {diff_auth_same_fandom} of them are same fandom, or {diff_auth_same_fandom/num_same} percent.')\n",
    "\n",
    "# how many fandoms?\n",
    "num_fandom1 = len(pd.unique(data['fandom1']))\n",
    "num_fandom2 = len(pd.unique(data['fandom2']))\n",
    "print(f'there were {num_fandom1} and {num_fandom2} fandoms.')\n",
    "\n",
    "# how many authors?\n",
    "num_auth1 = len(pd.unique(data['auth1']))\n",
    "num_auth2 = len(pd.unique(data['auth2']))\n",
    "print(f'there were {num_auth1} and {num_auth2} authors.')\n",
    "\n",
    "# how many samples per author? (multiprocess for speed)\n",
    "\n",
    "def get_texts_for_auth(auth):\n",
    "    return len(data[data['auth1'] == auth])\n",
    "\n",
    "print('getting all auths')\n",
    "\n",
    "all_auths = pd.unique(data['auth1'])\n",
    "start_time = time.time()\n",
    "texts_per_auth = [] \n",
    "\n",
    "with Pool(8) as p:\n",
    "    texts_per_auth.append(p.map(get_texts_for_auth, all_auths))\n",
    "\n",
    "print(f'took {time.time() - start_time} seconds')\n",
    "\n"
   ]
  },
  {
   "cell_type": "code",
   "execution_count": 7,
   "id": "brilliant-substance",
   "metadata": {},
   "outputs": [
    {
     "name": "stdout",
     "output_type": "stream",
     "text": [
      "avg samples per author: 1.7205714321393115\n",
      "median samples per author: 1.0\n",
      "std of samples per author: 2.463322106843219\n",
      "min samples per author: 1\n",
      "max samples per author: 15\n"
     ]
    }
   ],
   "source": [
    "print(f'avg samples per author: {np.mean(texts_per_auth)}')\n",
    "print(f'median samples per author: {np.median(texts_per_auth)}')\n",
    "print(f'std of samples per author: {np.std(texts_per_auth)}')\n",
    "print(f'min samples per author: {np.min(texts_per_auth)}')\n",
    "print(f'max samples per author: {np.max(texts_per_auth)}')"
   ]
  },
  {
   "cell_type": "code",
   "execution_count": 13,
   "id": "civilian-validity",
   "metadata": {},
   "outputs": [
    {
     "data": {
      "text/plain": [
       "(array([1.42327e+05, 6.23500e+03, 1.77300e+03, 2.58800e+03, 8.14000e+02,\n",
       "        1.20000e+02, 2.32500e+03, 6.22000e+02, 0.00000e+00, 3.35500e+03]),\n",
       " array([ 1. ,  2.4,  3.8,  5.2,  6.6,  8. ,  9.4, 10.8, 12.2, 13.6, 15. ]),\n",
       " <BarContainer object of 10 artists>)"
      ]
     },
     "execution_count": 13,
     "metadata": {},
     "output_type": "execute_result"
    },
    {
     "data": {
      "image/png": "[encoded data removed]",
      "text/plain": [
       "<Figure size 432x288 with 1 Axes>"
      ]
     },
     "metadata": {
      "needs_background": "light"
     },
     "output_type": "display_data"
    }
   ],
   "source": [
    "# plot a histogram of texts per author\n",
    "plt.hist(texts_per_auth, bins=10)"
   ]
  },
  {
   "cell_type": "code",
   "execution_count": 9,
   "id": "ambient-sauce",
   "metadata": {},
   "outputs": [
    {
     "name": "stdout",
     "output_type": "stream",
     "text": [
      "avg samples per author: 172.228125\n",
      "median samples per author: 59.0\n",
      "std of samples per author: 275.50265621947165\n",
      "min samples per author: 1\n",
      "max samples per author: 1907\n"
     ]
    },
    {
     "data": {
      "text/plain": [
       "(array([1235.,  155.,   69.,   50.,   37.,   22.,   15.,   11.,    3.,\n",
       "           3.]),\n",
       " array([1.0000e+00, 1.9160e+02, 3.8220e+02, 5.7280e+02, 7.6340e+02,\n",
       "        9.5400e+02, 1.1446e+03, 1.3352e+03, 1.5258e+03, 1.7164e+03,\n",
       "        1.9070e+03]),\n",
       " <BarContainer object of 10 artists>)"
      ]
     },
     "execution_count": 9,
     "metadata": {},
     "output_type": "execute_result"
    },
    {
     "data": {
      "image/png": "[encoded data removed]",
      "text/plain": [
       "<Figure size 432x288 with 1 Axes>"
      ]
     },
     "metadata": {
      "needs_background": "light"
     },
     "output_type": "display_data"
    }
   ],
   "source": [
    "# plot a histogram of fandoms per author\n",
    "# how many samples per author? \n",
    "\n",
    "def get_auths_per_fndm(fndm):\n",
    "    return len(data[data['fandom1'] == fndm])\n",
    "\n",
    "auth_per_fndm = []\n",
    "all_fndms = pd.unique(data['fandom1'])\n",
    "with Pool(8) as p:\n",
    "    auth_per_fndm.append(p.map(get_auths_per_fndm, all_fndms))\n",
    "\n",
    "print(f'avg samples per author: {np.mean(auth_per_fndm)}')\n",
    "print(f'median samples per author: {np.median(auth_per_fndm)}')\n",
    "print(f'std of samples per author: {np.std(auth_per_fndm)}')\n",
    "print(f'min samples per author: {np.min(auth_per_fndm)}')\n",
    "print(f'max samples per author: {np.max(auth_per_fndm)}')"
   ]
  },
  {
   "cell_type": "code",
   "execution_count": 14,
   "id": "defined-legislature",
   "metadata": {},
   "outputs": [
    {
     "data": {
      "text/plain": [
       "(array([617., 288., 162.,  95.,  73.,  55.,  33.,  29.,  19.,  19.,  16.,\n",
       "         15.,  14.,  15.,   9.,  13.,   8.,  10.,   9.,  10.,   9.,   4.,\n",
       "         10.,   9.,   5.,   6.,   1.,   8.,   3.,   4.,   6.,   2.,   2.,\n",
       "          2.,   3.,   3.,   2.,   3.,   3.,   0.,   2.,   0.,   1.,   0.,\n",
       "          0.,   0.,   1.,   1.,   0.,   1.]),\n",
       " array([1.00000e+00, 3.91200e+01, 7.72400e+01, 1.15360e+02, 1.53480e+02,\n",
       "        1.91600e+02, 2.29720e+02, 2.67840e+02, 3.05960e+02, 3.44080e+02,\n",
       "        3.82200e+02, 4.20320e+02, 4.58440e+02, 4.96560e+02, 5.34680e+02,\n",
       "        5.72800e+02, 6.10920e+02, 6.49040e+02, 6.87160e+02, 7.25280e+02,\n",
       "        7.63400e+02, 8.01520e+02, 8.39640e+02, 8.77760e+02, 9.15880e+02,\n",
       "        9.54000e+02, 9.92120e+02, 1.03024e+03, 1.06836e+03, 1.10648e+03,\n",
       "        1.14460e+03, 1.18272e+03, 1.22084e+03, 1.25896e+03, 1.29708e+03,\n",
       "        1.33520e+03, 1.37332e+03, 1.41144e+03, 1.44956e+03, 1.48768e+03,\n",
       "        1.52580e+03, 1.56392e+03, 1.60204e+03, 1.64016e+03, 1.67828e+03,\n",
       "        1.71640e+03, 1.75452e+03, 1.79264e+03, 1.83076e+03, 1.86888e+03,\n",
       "        1.90700e+03]),\n",
       " <BarContainer object of 50 artists>)"
      ]
     },
     "execution_count": 14,
     "metadata": {},
     "output_type": "execute_result"
    },
    {
     "data": {
      "image/png": "[encoded data removed]",
      "text/plain": [
       "<Figure size 432x288 with 1 Axes>"
      ]
     },
     "metadata": {
      "needs_background": "light"
     },
     "output_type": "display_data"
    }
   ],
   "source": [
    "plt.hist(auth_per_fndm, bins=50)"
   ]
  },
  {
   "cell_type": "code",
   "execution_count": 18,
   "id": "later-academy",
   "metadata": {},
   "outputs": [
    {
     "name": "stdout",
     "output_type": "stream",
     "text": [
      "avg samples per author: 1.255283811712111\n",
      "median samples per author: 1.0\n",
      "std of samples per author: 0.7847712381517544\n",
      "min samples per author: 1\n",
      "max samples per author: 5\n"
     ]
    }
   ],
   "source": [
    "# plot a histogram of authors per fandom\n",
    "# plot a histogram of fandoms per author\n",
    "# how many samples per author? \n",
    "def get_fndms_per_auth(auth):\n",
    "    return len(pd.unique(data[data['auth1'] == auth]['fandom1']))\n",
    "\n",
    "fndm_per_auth = []\n",
    "with Pool(8) as p:\n",
    "    fndm_per_auth.append(p.map(get_fndms_per_auth, all_auths))\n",
    "\n",
    "print(f'avg samples per author: {np.mean(fndm_per_auth)}')\n",
    "print(f'median samples per author: {np.median(fndm_per_auth)}')\n",
    "print(f'std of samples per author: {np.std(fndm_per_auth)}')\n",
    "print(f'min samples per author: {np.min(fndm_per_auth)}')\n",
    "print(f'max samples per author: {np.max(fndm_per_auth)}')"
   ]
  },
  {
   "cell_type": "code",
   "execution_count": 20,
   "id": "accessible-dimension",
   "metadata": {},
   "outputs": [
    {
     "data": {
      "text/plain": [
       "(array([139838.,   9806.,   3944.,   3092.,   3479.]),\n",
       " array([1. , 1.8, 2.6, 3.4, 4.2, 5. ]),\n",
       " <BarContainer object of 5 artists>)"
      ]
     },
     "execution_count": 20,
     "metadata": {},
     "output_type": "execute_result"
    },
    {
     "data": {
      "image/png": "[encoded data removed]",
      "text/plain": [
       "<Figure size 432x288 with 1 Axes>"
      ]
     },
     "metadata": {
      "needs_background": "light"
     },
     "output_type": "display_data"
    }
   ],
   "source": [
    "plt.hist(fndm_per_auth, bins=5)"
   ]
  },
  {
   "cell_type": "code",
   "execution_count": 17,
   "id": "alternative-guide",
   "metadata": {},
   "outputs": [],
   "source": [
    "# What is the accuracy on the dataset if we just predict the most common author/score? - Low AF, not even worth doing"
   ]
  },
  {
   "cell_type": "code",
   "execution_count": null,
   "id": "after-remark",
   "metadata": {},
   "outputs": [],
   "source": []
  }
 ],
 "metadata": {
  "kernelspec": {
   "display_name": "Python 3",
   "language": "python",
   "name": "python3"
  },
  "language_info": {
   "codemirror_mode": {
    "name": "ipython",
    "version": 3
   },
   "file_extension": ".py",
   "mimetype": "text/x-python",
   "name": "python",
   "nbconvert_exporter": "python",
   "pygments_lexer": "ipython3",
   "version": "3.7.9"
  }
 },
 "nbformat": 4,
 "nbformat_minor": 5
}
