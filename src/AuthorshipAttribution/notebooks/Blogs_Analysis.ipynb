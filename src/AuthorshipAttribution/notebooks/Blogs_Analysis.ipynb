{
 "cells": [
  {
   "cell_type": "code",
   "execution_count": 5,
   "metadata": {},
   "outputs": [],
   "source": [
    "import numpy as np \n",
    "from tqdm.notebook import tqdm \n",
    "import os\n",
    "import pandas as pd\n",
    "\n",
    "def init_blogs_as_dict(dataset_path: str) -> dict:\n",
    "    # get the dataset as a dic, with key being author id and value being a list of contents\n",
    "    raw_data = {}\n",
    "\n",
    "    # transform user_id's as well\n",
    "    label_transformer = {}\n",
    "    label_count = 0\n",
    "\n",
    "    # for every blog (i.e. every file in the directory\n",
    "    for directory, subdirectories, files in os.walk(dataset_path):\n",
    "\n",
    "        for file in tqdm(files):\n",
    "\n",
    "            # get the author id\n",
    "            auth_id = file.split('.')[0]\n",
    "            if auth_id not in label_transformer.keys():\n",
    "                label_transformer[auth_id] = label_count\n",
    "                label_count += 1\n",
    "\n",
    "            with open(os.path.join(directory, file), 'r', errors='ignore') as f:\n",
    "\n",
    "                # we want just the data between the <post> and </post> tags as content\n",
    "                lines = f.readlines()\n",
    "\n",
    "                auth_content = []\n",
    "\n",
    "                get_content = False\n",
    "\n",
    "                this_line_content = ''\n",
    "\n",
    "                for line in lines:\n",
    "                    if get_content:\n",
    "\n",
    "                        # if line is not empty\n",
    "                        if not line.isspace():\n",
    "                            this_line_content += line.strip()\n",
    "\n",
    "                        if '</post>' in line:\n",
    "                            get_content = False\n",
    "                            auth_content.append(this_line_content)\n",
    "                            this_line_content = ''\n",
    "\n",
    "                    else:\n",
    "\n",
    "                        # only get what is between these lines. XML parsing may be easier but this will work\n",
    "                        if '<post>' in line:\n",
    "\n",
    "                            get_content = True\n",
    "\n",
    "                # we have all the lines, add the content to the author\n",
    "                if label_transformer[auth_id] in raw_data.keys():\n",
    "                    raw_data[label_transformer[auth_id]].extend(auth_content)\n",
    "                else:\n",
    "                    raw_data[label_transformer[auth_id]] = auth_content\n",
    "\n",
    "        return raw_data\n"
   ]
  },
  {
   "cell_type": "code",
   "execution_count": 2,
   "metadata": {},
   "outputs": [
    {
     "data": {
      "application/vnd.jupyter.widget-view+json": {
       "model_id": "5dbd31141de5494f9633ab674a86956e",
       "version_major": 2,
       "version_minor": 0
      },
      "text/plain": [
       "HBox(children=(HTML(value=''), FloatProgress(value=0.0, max=19320.0), HTML(value='')))"
      ]
     },
     "metadata": {},
     "output_type": "display_data"
    },
    {
     "name": "stdout",
     "output_type": "stream",
     "text": [
      "\n"
     ]
    }
   ],
   "source": [
    "# get the raw data - gives a dict key'd on auth with values a list of passages\n",
    "data = init_blogs_as_dict('/home/jtyo/Repos/AuthorshipAttribution/data/Blog/blogs')"
   ]
  },
  {
   "cell_type": "code",
   "execution_count": 3,
   "metadata": {},
   "outputs": [
    {
     "name": "stdout",
     "output_type": "stream",
     "text": [
      "there are 19320 authors\n"
     ]
    }
   ],
   "source": [
    "# how many authors are there?\n",
    "print(f'there are {len(data.keys())} authors')"
   ]
  },
  {
   "cell_type": "code",
   "execution_count": 16,
   "metadata": {},
   "outputs": [
    {
     "name": "stdout",
     "output_type": "stream",
     "text": [
      "mean:  35.26335403726708\n",
      "std:  105.33820573557426\n",
      "median:  11.0\n",
      "min:  1\n",
      "max:  4221\n",
      "total number of texts:  681288\n"
     ]
    },
    {
     "data": {
      "text/plain": [
       "<AxesSubplot:>"
      ]
     },
     "execution_count": 16,
     "metadata": {},
     "output_type": "execute_result"
    },
    {
     "data": {
      "image/png": "[encoded data removed]",
      "text/plain": [
       "<Figure size 432x288 with 1 Axes>"
      ]
     },
     "metadata": {
      "needs_background": "light"
     },
     "output_type": "display_data"
    }
   ],
   "source": [
    "# what is the distribution of texts? \n",
    "# build a list of (auth, num texts)\n",
    "text_counts = []\n",
    "for auth in data.keys():\n",
    "    text_counts.append([auth, len(data[auth])])\n",
    "# plot a hisogram and statistics of this\n",
    "df_text_counts = pd.DataFrame(text_counts, columns=['author','num_texts'])\n",
    "\n",
    "print('mean: ', df_text_counts['num_texts'].mean())\n",
    "print('std: ', df_text_counts['num_texts'].std())\n",
    "print('median: ', df_text_counts['num_texts'].median())\n",
    "print('min: ', df_text_counts['num_texts'].min())\n",
    "print('max: ', df_text_counts['num_texts'].max())\n",
    "print('total number of texts: ', df_text_counts['num_texts'].sum())\n",
    "\n",
    "\n",
    "df_text_counts['num_texts'].hist(bins=20)"
   ]
  },
  {
   "cell_type": "code",
   "execution_count": 18,
   "metadata": {},
   "outputs": [
    {
     "name": "stdout",
     "output_type": "stream",
     "text": [
      "mean:  1125.98\n",
      "std:  535.2118617610197\n",
      "median:  1016.0\n",
      "min:  629\n",
      "max:  4221\n",
      "total number of texts:  112598\n"
     ]
    },
    {
     "data": {
      "text/plain": [
       "<AxesSubplot:>"
      ]
     },
     "execution_count": 18,
     "metadata": {},
     "output_type": "execute_result"
    },
    {
     "data": {
      "image/png": "[encoded data removed]",
      "text/plain": [
       "<Figure size 432x288 with 1 Axes>"
      ]
     },
     "metadata": {
      "needs_background": "light"
     },
     "output_type": "display_data"
    }
   ],
   "source": [
    "# if we keep only the authors with the top 100 number of texts, then:\n",
    "def my_sorter(e):\n",
    "    return e[1]\n",
    "\n",
    "text_counts.sort(reverse=True, key=lambda x: x[1])\n",
    "\n",
    "top100_text_counts = text_counts[:100]\n",
    "\n",
    "df_top100_counts = pd.DataFrame(top100_text_counts, columns=['auth', 'num_texts'])\n",
    "\n",
    "print('mean: ', df_top100_counts['num_texts'].mean())\n",
    "print('std: ', df_top100_counts['num_texts'].std())\n",
    "print('median: ', df_top100_counts['num_texts'].median())\n",
    "print('min: ', df_top100_counts['num_texts'].min())\n",
    "print('max: ', df_top100_counts['num_texts'].max())\n",
    "print('total number of texts: ', df_top100_counts['num_texts'].sum())\n",
    "\n",
    "\n",
    "df_top100_counts['num_texts'].hist(bins=20)"
   ]
  },
  {
   "cell_type": "code",
   "execution_count": null,
   "metadata": {},
   "outputs": [],
   "source": []
  }
 ],
 "metadata": {
  "kernelspec": {
   "display_name": "Python 3",
   "language": "python",
   "name": "python3"
  },
  "language_info": {
   "codemirror_mode": {
    "name": "ipython",
    "version": 3
   },
   "file_extension": ".py",
   "mimetype": "text/x-python",
   "name": "python",
   "nbconvert_exporter": "python",
   "pygments_lexer": "ipython3",
   "version": "3.8.5"
  }
 },
 "nbformat": 4,
 "nbformat_minor": 4
}
